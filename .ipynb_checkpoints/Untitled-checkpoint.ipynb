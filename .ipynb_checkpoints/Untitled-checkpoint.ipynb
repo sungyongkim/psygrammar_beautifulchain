{
 "cells": [
  {
   "cell_type": "markdown",
   "metadata": {},
   "source": [
    "## Intended Audience\n",
    "\n",
    "This book is mostly intended for coders. If you can use a programming language, this book will teach you how cryptographic currencies work, how to use them, and how to develop software that works with them. The first few chapters are also suitable as Preface Writing the Bitcoin Book an in-depth introduction to bitcoin for noncoders—those trying to understand the inner workings of bitcoin and cryptocurrencies."
   ]
  },
  {
   "cell_type": "markdown",
   "metadata": {},
   "source": [
    "## CHAPTER 1 Introduction"
   ]
  },
  {
   "cell_type": "markdown",
   "metadata": {},
   "source": [
    "### What Is Bitcoin?\n",
    "\n",
    "Bitcoin is a collection of concepts and technologies that form the basis of a digital money ecosystem. Units of currency called bitcoin are used to store and transmit value among participants in the bitcoin network. Bitcoin users communicate with each other using the bitcoin protocol primarily via the internet, although other trans‐ port networks can also be used. The bitcoin protocol stack, available as open source software, can be run on a wide range of computing devices, including laptops and smartphones, making the technology easily accessible.\n",
    "\n",
    "Users can transfer bitcoin over the network to do just about anything that can be done with conventional currencies, including buy and sell goods, send money to peo‐ ple or organizations, or extend credit. Bitcoin can be purchased, sold, and exchanged for other currencies at specialized currency exchanges. Bitcoin in a sense is the per‐ fect form of money for the internet because it is fast, secure, and borderless.\n",
    "\n",
    "Unlike traditional currencies, bitcoin are entirely virtual. There are no physical coins or even digital coins per se. The coins are implied in transactions that transfer value from sender to recipient. Users of bitcoin own keys that allow them to prove owner‐ ship of bitcoin in the bitcoin network. With these keys they can sign transactions to unlock the value and spend it by transferring it to a new owner. Keys are often stored in a digital wallet on each user’s computer or smartphone. Possession of the key that can sign a transaction is the only prerequisite to spending bitcoin, putting the control entirely in the hands of each user.\n",
    "\n",
    "Bitcoin is a distributed, peer-to-peer system. As such there is no “central” server or point of control. Bitcoin are created through a process called “mining,” which involves competing to find solutions to a mathematical problem while processing bit‐ coin transactions. Any participant in the bitcoin network (i.e., anyone using a device\n",
    "CHAPTER 1 Introduction\n",
    " "
   ]
  },
  {
   "cell_type": "markdown",
   "metadata": {},
   "source": [
    "\n",
    "\n",
    "The emergence of viable digital money is closely linked to developments in cryptog‐ raphy. This is not surprising when one considers the fundamental challenges involved with using bits to represent value that can be exchanged for goods and services. Three basic questions for anyone accepting digital money are:\n",
    "\n",
    "1. Can I trust that the money is authentic and not counterfeit?\n",
    "2. Can I trust that the digital money can only be spent once (known as the “double- spend” problem)?\n",
    "3. Can I be sure that no one else can claim this money belongs to them and not me?\n",
    "\n"
   ]
  },
  {
   "cell_type": "markdown",
   "metadata": {},
   "source": [
    "Transaction Inputs and Outputs"
   ]
  },
  {
   "cell_type": "markdown",
   "metadata": {},
   "source": [
    "### Transaction Chains\n",
    "\n",
    "- Alice received bitcoin from her friend. \n",
    "- That transaction created a bitcoin value locked by Alice’s key.\n",
    "- Alice’s key provides the signature that unlocks those previous transaction outputs, thereby proving to the bitcoin network that she owns the funds.\n",
    "- "
   ]
  },
  {
   "cell_type": "markdown",
   "metadata": {},
   "source": []
  },
  {
   "cell_type": "markdown",
   "metadata": {},
   "source": [
    "### Constructing a Transaction\n",
    "\n",
    "- Alice’s wallet would contain a copy of the transaction output from Joe’s transaction, which was created in exchange for cash\n",
    "\n",
    "\n",
    "- If the wallet application does not maintain a copy of unspent transaction outputs, it can query the bitcoin network to retrieve this information using a variety of APIs available by different providers or by asking a full-node using an application programming interface (API) call.\n",
    "\n",
    "- [unspent transaction output info](https://www.dropbox.com/s/nwq6ampmvlqbtsv/%EC%8A%A4%ED%81%AC%EB%A6%B0%EC%83%B7%202017-11-21%2011.43.24.png?dl=0)\n",
    "\n",
    "- With this information, Alice’s wallet application can construct a transaction to transfer that value to new owner addresses.\n",
    "\n",
    "\n",
    "\n",
    "\n",
    "\n",
    "\n",
    "\n",
    "\n",
    "\n",
    "\n",
    "\n",
    "\n"
   ]
  },
  {
   "cell_type": "markdown",
   "metadata": {},
   "source": [
    "### Creating the Outputs\n",
    "\n",
    "- In simpler terms, Alice’s transaction output will contain a script that says something like, “This output is payable to whoever can present a signature from the key correspond‐ ing to Bob’s public address.”\n",
    "\n",
    "- Alice will therefore “encumber” the output value with a demand for a sig‐ nature from Bob.\n",
    "\n",
    "\n",
    "- Essentially, **Alice’s wal‐ let breaks her funds into two payments**: one to Bob and **one back to herself**. <u>She can then use (spend) the change output in a subsequent transaction.</u> 앨리스의 트랙잭션 아이디는 살아있다!\n",
    "\n",
    "- [divieded transaction](https://www.dropbox.com/s/3cdlan8xd4zqwfh/%EC%8A%A4%ED%81%AC%EB%A6%B0%EC%83%B7%202017-11-21%2011.56.07.png?dl=0)\n",
    "\n",
    "\n",
    "```\n",
    "- tip : what is transaction fee?\n",
    "The resulting difference is the transaction fee that is collected by the miner as a fee for validating and including the transaction in a block to be recorded on the blockchain.\n",
    "```"
   ]
  },
  {
   "cell_type": "markdown",
   "metadata": {},
   "source": [
    "### Adding the Transaction to the Ledger\n",
    "\n",
    "The transaction created by Alice’s wallet application is 258 bytes long and contains everything necessary to confirm ownership of the funds and assign new owners. **Now, the transaction must be transmitted to the bitcoin network where it will become part of the blockchain. In the next section we will see how a transaction becomes part of a new block and how the block is “mined.” Finally, we will see how the new block, once added to the blockchain, is increasingly trusted by the network as more blocks are added.**"
   ]
  },
  {
   "cell_type": "markdown",
   "metadata": {},
   "source": [
    "#### Transmitting the transaction\n",
    "\n",
    "Because the transaction contains all the information necessary to process, it does not matter how or where it is transmitted to the bitcoin network. The bitcoin network is a peer-to-peer network, with each bitcoin client participating by connecting to several other bitcoin clients. **The purpose of the bitcoin network is to propagate transactions and blocks to all participants.**"
   ]
  },
  {
   "cell_type": "markdown",
   "metadata": {},
   "source": [
    "#### How it propagates\n",
    "\n",
    "- **what is *bitcoin node* ?** : Any system that participates in the bitcoin network by “speaking” the bitcoin protocol is called a bitcoin node. \n",
    "\n",
    "- **what accplication do?** : Alice’s wal‐ let application send the new transaction to any bitcoin node. \n",
    "\n",
    "- **what bitcoin node do?** : Any bitcoin node that receives a valid transaction it has not seen before will immedi‐ ately forward it to all other nodes to which it is connected, a propagation technique known as  flooding. \n",
    "\n",
    "- **how do transaction propates?**:Thus, the transaction rapidly propagates out across the peer-to- peer network, reaching a large percentage of the nodes within a few seconds."
   ]
  },
  {
   "cell_type": "markdown",
   "metadata": {},
   "source": [
    "#### Bob’s view\n",
    "\n",
    "- If Bob’s bitcoin wallet application is directly connected to Alice’s wallet application, Bob’s wallet application might be the first bitcoin node to receive the transaction. \n",
    "\n",
    "- However, even if Alice’s wallet sends the transaction through other nodes, it will reach Bob’s wallet within a few seconds. \n",
    "\n",
    "- Bob’s wallet will immediately identify Alice’s transaction as an incoming payment because it contains outputs redeemable by Bob’s keys. \n",
    "\n",
    "- Bob’s wallet application can also independently verify that the transaction is well formed, uses previously unspent inputs, and contains sufficient transaction fees to be included in the next block. \n",
    "\n",
    "- At this point Bob can assume, with little risk, that the transaction will shortly be included in a block and confirmed.\n"
   ]
  },
  {
   "cell_type": "markdown",
   "metadata": {},
   "source": [
    "### Bitcoin Mining\n",
    "\n",
    "- Alice’s transaction is now propagated on the bitcoin network. \n",
    "\n",
    "- It does not become part of the blockchain until it is verified and included in a block by a process called mining. See Chapter 10 for a detailed explanation.\n",
    "The bitcoin system of trust is based on computation. Transactions are bundled into blocks, which require an enormous amount of computation to prove, but only a small amount of computation to verify as proven. The mining process serves two purposes in bitcoin:"
   ]
  },
  {
   "cell_type": "code",
   "execution_count": null,
   "metadata": {
    "collapsed": true
   },
   "outputs": [],
   "source": [
    "{\n",
    "'block_chain',\n",
    "'block',\n",
    "'bitcoin_network', \n",
    "'bitcoin_node', \n",
    "'transaction'\n",
    "}"
   ]
  },
  {
   "cell_type": "markdown",
   "metadata": {},
   "source": []
  },
  {
   "cell_type": "markdown",
   "metadata": {},
   "source": []
  },
  {
   "cell_type": "markdown",
   "metadata": {},
   "source": []
  },
  {
   "cell_type": "markdown",
   "metadata": {},
   "source": []
  },
  {
   "cell_type": "markdown",
   "metadata": {},
   "source": []
  },
  {
   "cell_type": "markdown",
   "metadata": {},
   "source": []
  },
  {
   "cell_type": "markdown",
   "metadata": {},
   "source": []
  },
  {
   "cell_type": "markdown",
   "metadata": {},
   "source": []
  },
  {
   "cell_type": "markdown",
   "metadata": {},
   "source": []
  },
  {
   "cell_type": "markdown",
   "metadata": {},
   "source": []
  },
  {
   "cell_type": "markdown",
   "metadata": {},
   "source": []
  },
  {
   "cell_type": "markdown",
   "metadata": {},
   "source": []
  },
  {
   "cell_type": "markdown",
   "metadata": {},
   "source": []
  },
  {
   "cell_type": "markdown",
   "metadata": {},
   "source": []
  },
  {
   "cell_type": "markdown",
   "metadata": {},
   "source": []
  },
  {
   "cell_type": "markdown",
   "metadata": {},
   "source": []
  },
  {
   "cell_type": "markdown",
   "metadata": {},
   "source": []
  },
  {
   "cell_type": "markdown",
   "metadata": {},
   "source": []
  },
  {
   "cell_type": "markdown",
   "metadata": {},
   "source": []
  },
  {
   "cell_type": "markdown",
   "metadata": {},
   "source": []
  },
  {
   "cell_type": "markdown",
   "metadata": {},
   "source": []
  },
  {
   "cell_type": "markdown",
   "metadata": {},
   "source": []
  },
  {
   "cell_type": "markdown",
   "metadata": {},
   "source": []
  },
  {
   "cell_type": "markdown",
   "metadata": {},
   "source": []
  },
  {
   "cell_type": "markdown",
   "metadata": {},
   "source": []
  },
  {
   "cell_type": "markdown",
   "metadata": {},
   "source": []
  },
  {
   "cell_type": "markdown",
   "metadata": {},
   "source": []
  },
  {
   "cell_type": "markdown",
   "metadata": {},
   "source": []
  },
  {
   "cell_type": "markdown",
   "metadata": {},
   "source": []
  },
  {
   "cell_type": "markdown",
   "metadata": {},
   "source": []
  },
  {
   "cell_type": "markdown",
   "metadata": {},
   "source": []
  },
  {
   "cell_type": "markdown",
   "metadata": {},
   "source": []
  },
  {
   "cell_type": "markdown",
   "metadata": {},
   "source": []
  },
  {
   "cell_type": "markdown",
   "metadata": {},
   "source": []
  },
  {
   "cell_type": "markdown",
   "metadata": {},
   "source": []
  },
  {
   "cell_type": "markdown",
   "metadata": {},
   "source": []
  },
  {
   "cell_type": "markdown",
   "metadata": {},
   "source": []
  },
  {
   "cell_type": "markdown",
   "metadata": {},
   "source": []
  }
 ],
 "metadata": {
  "kernelspec": {
   "display_name": "Python 3",
   "language": "python",
   "name": "python3"
  },
  "language_info": {
   "codemirror_mode": {
    "name": "ipython",
    "version": 3
   },
   "file_extension": ".py",
   "mimetype": "text/x-python",
   "name": "python",
   "nbconvert_exporter": "python",
   "pygments_lexer": "ipython3",
   "version": "3.6.2"
  }
 },
 "nbformat": 4,
 "nbformat_minor": 2
}
