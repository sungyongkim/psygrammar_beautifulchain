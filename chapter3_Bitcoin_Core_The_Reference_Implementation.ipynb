{
 "cells": [
  {
   "cell_type": "markdown",
   "metadata": {},
   "source": [
    "## Chapter3 Bitcoin Core: The Reference Implementation"
   ]
  },
  {
   "cell_type": "markdown",
   "metadata": {},
   "source": [
    "### intro\n",
    "#### KeyWord\n",
    "#### KeyQuestion\n",
    "#### KeyReference\n",
    "- Bitcoin is an open source project and the source code is available under an open (MIT) license, free to download and use for any purpose. \n",
    "- Open source means more than simply free to use. \n",
    "- It also means that bitcoin is developed by an open commu‐ nity of volunteers. \n",
    "- At first, that community consisted of only Satoshi Nakamoto. By 2016, bitcoin’s source code had more than 400 contributors with about a dozen devel‐ opers working on the code almost full-time and several dozen more on a part-time basis. \n",
    "- Anyone can contribute to the code—including you!\n",
    "- When bitcoin was created by Satoshi Nakamoto, the software was actually completed before the whitepaper reproduced in * **Appendix A** * was written. \n",
    "- Satoshi wanted to make sure it worked before writing about it. \n",
    "- That first implementation, then simply known as “Bitcoin” or “Satoshi client,” has been heavily modified and improved. \n",
    "- It has evolved into what is known as Bitcoin Core, to differentiate it from other compatible implementations. \n",
    "- Bitcoin Core is the reference implementation of the bitcoin system, meaning that it is the authoritative reference on how each part of the technology should be implemented. Bitcoin Core implements all aspects of bitcoin, including wallets, a transaction and block validation engine, and a full network node in the peer-to-peer bitcoin network.\n",
    "- **tip::** Even though Bitcoin Core includes a reference implementation of a wallet, this is not intended to be used as a production wallet for users or for applications. Application developers are advised to build wallets using modern standards such as BIP-39 and BIP-32 * **(see “Mnemonic Code Words (BIP-39)” on page 99 and “HD Wal‐ lets (BIP-32/BIP-44)” on page 96)** *. BIP stands for Bitcoin Improve‐ ment Proposal.\n",
    "- [Figure 3-1 shows the architecture of Bitcoin Core.](https://www.dropbox.com/s/6zmmjddc2e8mmxn/%EC%8A%A4%ED%81%AC%EB%A6%B0%EC%83%B7%202017-12-04%2023.19.56.png?dl=0)"
   ]
  },
  {
   "cell_type": "markdown",
   "metadata": {},
   "source": [
    "### Bitcoin Development Environment\n",
    "\n",
    "- If you’re a developer, you will want to set up a development environment with all the tools, libraries, and support software for writing bitcoin applications. \n",
    "- In this highly technical chapter, we’ll walk through that process step-by-step. \n",
    "- If the material becomes too dense (and you’re not actually setting up a development environment) feel free to skip to the next chapter, which is less technical."
   ]
  },
  {
   "cell_type": "markdown",
   "metadata": {},
   "source": [
    "### Compiling Bitcoin Core from the Source Code\n",
    "\n",
    "- Bitcoin Core’s source code can be downloaded as a ZIP archive or by cloning the authoritative source repository from GitHub. \n",
    "- On the GitHub bitcoin page, select Download ZIP from the sidebar. \n",
    "- Alternatively, use the git command line to create a local copy of the source code on your system.\n",
    "- **tip** : \n",
    " - In many of the examples in this chapter we will be using the oper‐ ating system’s command-line interface (also known as a “shell”), accessed via a “terminal” application. \n",
    "  - The shell will display a prompt; you type a command; and the shell responds with some text and a new prompt for your next command. \n",
    "  - The prompt may look different on your system, but in the following examples it is denoted by a `$` symbol. \n",
    "  - In the examples, when you see text after a `$` symbol, don’t type the `$` symbol but type the command immedi‐ ately following it, then press Enter to execute the command. \n",
    "  - In the examples, the lines below each command are the operating system’s responses to that command. \n",
    "  - When you see the next `$` prefix, you’ll know it’s a new command and you should repeat the process.\n",
    "\n",
    "- In this example, we are using the git command to create a local copy (“clone”) of the source code:"
   ]
  },
  {
   "cell_type": "markdown",
   "metadata": {},
   "source": []
  },
  {
   "cell_type": "markdown",
   "metadata": {},
   "source": []
  },
  {
   "cell_type": "markdown",
   "metadata": {},
   "source": []
  },
  {
   "cell_type": "markdown",
   "metadata": {},
   "source": []
  },
  {
   "cell_type": "markdown",
   "metadata": {},
   "source": []
  },
  {
   "cell_type": "markdown",
   "metadata": {},
   "source": []
  },
  {
   "cell_type": "markdown",
   "metadata": {},
   "source": []
  },
  {
   "cell_type": "markdown",
   "metadata": {},
   "source": []
  },
  {
   "cell_type": "markdown",
   "metadata": {},
   "source": []
  },
  {
   "cell_type": "markdown",
   "metadata": {},
   "source": []
  }
 ],
 "metadata": {
  "kernelspec": {
   "display_name": "Python 3",
   "language": "python",
   "name": "python3"
  },
  "language_info": {
   "codemirror_mode": {
    "name": "ipython",
    "version": 3
   },
   "file_extension": ".py",
   "mimetype": "text/x-python",
   "name": "python",
   "nbconvert_exporter": "python",
   "pygments_lexer": "ipython3",
   "version": "3.6.3"
  }
 },
 "nbformat": 4,
 "nbformat_minor": 2
}
